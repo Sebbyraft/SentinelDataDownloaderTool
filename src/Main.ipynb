{
 "cells": [
  {
   "cell_type": "markdown",
   "metadata": {},
   "source": [
    "# Automatic creation of EO datasets for AI applications\n",
    "###### By Alessandro Sebastianelli, alessandro.sebastianelli1995@gmail.com"
   ]
  },
  {
   "cell_type": "code",
   "execution_count": null,
   "metadata": {},
   "outputs": [],
   "source": [
    "import geopandas as gpd\n",
    "import matplotlib.pyplot as plt\n",
    "import descartes\n",
    "from shapely.geometry import Point,Polygon\n",
    "import pandas as pd\n",
    "import numpy as np\n",
    "%matplotlib inline"
   ]
  },
  {
   "cell_type": "code",
   "execution_count": null,
   "metadata": {},
   "outputs": [],
   "source": [
    "import platform\n",
    "system = platform.system()\n",
    "\n",
    "if system == 'Windows':\n",
    "    windows = True\n",
    "else:\n",
    "    windows = False"
   ]
  },
  {
   "cell_type": "markdown",
   "metadata": {},
   "source": [
    "## Components "
   ]
  },
  {
   "cell_type": "code",
   "execution_count": null,
   "metadata": {},
   "outputs": [],
   "source": [
    "# ~~~~~ Generator ~~~~~~\n",
    "generate =   False\n",
    "# ~~~~~ Downloader ~~~~~~\n",
    "download =   True\n",
    "# ~~~~~~ Converter ~~~~~~\n",
    "convert_s2 = False\n",
    "convert_s1 = False\n",
    "# ~~~~~~ Cleaner ~~~~~~~~\n",
    "clean_s2 =   False\n",
    "clean_s1 =   False  "
   ]
  },
  {
   "cell_type": "markdown",
   "metadata": {},
   "source": [
    "## Generator\n",
    "#### Settings"
   ]
  },
  {
   "cell_type": "code",
   "execution_count": null,
   "metadata": {},
   "outputs": [],
   "source": [
    "n_of_points = 5000\n",
    "\n",
    "if windows:\n",
    "    points_path = 'C:\\\\Users\\\\Phicollaborator\\\\Desktop\\\\downloader_tool\\\\code\\\\points.csv'\n",
    "else:\n",
    "    points_path = '/home/sebbyraft/Desktop/downloader_tool/code/points.csv'"
   ]
  },
  {
   "cell_type": "markdown",
   "metadata": {},
   "source": [
    "#### Execution"
   ]
  },
  {
   "cell_type": "code",
   "execution_count": null,
   "metadata": {},
   "outputs": [],
   "source": [
    "import generator\n",
    "if generate:\n",
    "    points = generator.get_land_coordinates(n_of_points)\n",
    "    generator.save_points(points, points_path)\n",
    "else:\n",
    "    points = generator.load_points(points_path)"
   ]
  },
  {
   "cell_type": "markdown",
   "metadata": {},
   "source": [
    "## Downloader\n",
    "#### Settings"
   ]
  },
  {
   "cell_type": "code",
   "execution_count": null,
   "metadata": {},
   "outputs": [],
   "source": [
    "if windows:\n",
    "    download_path = 'C:\\\\Users\\\\Phicollaborator\\\\Desktop\\\\downloader_tool\\\\code\\\\download'\n",
    "    downloads_folder_path = download_path+'\\\\*'\n",
    "    sen2_images_base_path = 'C:\\\\Users\\\\Phicollaborator\\\\Desktop\\\\downloader_tool\\\\code\\\\data\\\\sen2\\\\'\n",
    "    sen1_images_base_path = 'C:\\\\Users\\\\Phicollaborator\\\\Desktop\\\\downloader_tool\\\\code\\\\data\\\\sen1\\\\'\n",
    "else:\n",
    "    download_path = '/home/sebbyraft/Desktop/downloader_tool/code/download'\n",
    "    downloads_folder_path = download_path+'/*'\n",
    "    sen2_images_base_path = '/home/sebbyraft/Desktop/downloader_tool/code/data/sen2/'\n",
    "    sen1_images_base_path = '/home/sebbyraft/Desktop/downloader_tool/code/data/sen1/'\n",
    "\n",
    "start_date = ['2018-01-01','2018-02-01','2018-03-01','2018-04-01','2018-05-01','2018-06-01','2018-07-01','2018-08-01','2018-09-01','2018-10-01','2018-11-01','2018-12-01']\n",
    "end_date =   ['2018-01-28','2018-02-28','2018-03-28','2018-04-28','2018-05-28','2018-06-28','2018-07-28','2018-08-28','2018-09-28','2018-10-28','2018-11-28','2018-12-28']\n",
    "date_names = ['Jan','Feb','Mar','Apr','May','Jun','Jul','Aug','Sep','Oct','Nov','Dec']\n",
    "n_images = 3\n",
    "s2_selectors = [\"B2\", \"B3\", \"B4\", \"QA60\"]\n",
    "s1_selectors = [\"VV\"]\n",
    "n_of_scene = 20\n",
    "patch_size = 10 #km"
   ]
  },
  {
   "cell_type": "markdown",
   "metadata": {},
   "source": [
    "### Select the points that have not yet been downloaded and update the data frame"
   ]
  },
  {
   "cell_type": "code",
   "execution_count": null,
   "metadata": {},
   "outputs": [],
   "source": [
    "points = generator.get_new_points(n_of_scene, '/home/sebbyraft/Desktop/downloader_tool/code/points.csv')"
   ]
  },
  {
   "cell_type": "markdown",
   "metadata": {},
   "source": [
    "### Plot generated points VS selected points"
   ]
  },
  {
   "cell_type": "code",
   "execution_count": null,
   "metadata": {},
   "outputs": [],
   "source": [
    "df = pd.read_csv('/home/sebbyraft/Desktop/downloader_tool/code/points.csv')\n",
    "crs = {'init': 'epsg:4326'}\n",
    "df = df.drop(columns=['Unnamed: 0'])\n",
    "df.head()"
   ]
  },
  {
   "cell_type": "code",
   "execution_count": null,
   "metadata": {},
   "outputs": [],
   "source": [
    "w_map = gpd.read_file('/home/sebbyraft/Desktop/downloader_tool/code/map/ne_110m_land.shp')"
   ]
  },
  {
   "cell_type": "markdown",
   "metadata": {},
   "source": [
    "In order to plot the generated point on a world map, firt of all we need to read the points form the csv file, then we convert the pandas dataframe into a georeferenced datadrame (with geopandas)."
   ]
  },
  {
   "cell_type": "code",
   "execution_count": null,
   "metadata": {},
   "outputs": [],
   "source": [
    "geometry = [Point(xy) for xy in zip(df['Longitude'], df['Latitude'])]\n",
    "geo_df = gpd.GeoDataFrame(df, crs=crs, geometry=geometry)"
   ]
  },
  {
   "cell_type": "code",
   "execution_count": null,
   "metadata": {},
   "outputs": [],
   "source": [
    "fig, ax = plt.subplots(figsize=(25,25))\n",
    "w_map.plot(ax=ax, alpha=0.4, color='gray')\n",
    "geo_df[geo_df['State']==0].plot(ax=ax, markersize=8, color='red', marker=\"o\", label='Generated points')\n",
    "geo_df[geo_df['State']==1].plot(ax=ax, markersize=8, color='blue', marker=\"o\", label='Downloaded points')\n",
    "geo_df[geo_df['State']==2].plot(ax=ax, markersize=8, color='green', marker=\"o\", label='Missing data')\n",
    "geo_df[geo_df['State']==3].plot(ax=ax, markersize=8, color='yellow', marker=\"o\", label='To check')\n",
    "\n",
    "plt.xlabel('Longitude', fontsize=16)\n",
    "plt.ylabel('Latitude', fontsize=16)\n",
    "plt.legend(prop={'size':15})\n",
    "plt.xticks(np.arange(-180, 190, 10.0))\n",
    "plt.yticks(np.arange(-90, 100, 10.0))\n",
    "plt.grid()\n",
    "plt.show()"
   ]
  },
  {
   "cell_type": "code",
   "execution_count": null,
   "metadata": {},
   "outputs": [],
   "source": [
    "geo_df[geo_df['State']==1].shape"
   ]
  },
  {
   "cell_type": "markdown",
   "metadata": {},
   "source": [
    "As you can see, the generator distributes the points all over the world, but for the download process we have to select only some of these examples. This can lead to a sparse representation of the lands."
   ]
  },
  {
   "cell_type": "markdown",
   "metadata": {},
   "source": [
    "#### Execution"
   ]
  },
  {
   "cell_type": "code",
   "execution_count": null,
   "metadata": {},
   "outputs": [],
   "source": [
    "if download:\n",
    "    import downloader\n",
    "    downloader.download(points, patch_size, start_date, end_date, date_names,s2_selectors,s1_selectors,n_of_scene,n_images,downloads_folder_path,download_path, sen2_images_base_path, sen1_images_base_path, windows)"
   ]
  },
  {
   "cell_type": "markdown",
   "metadata": {},
   "source": [
    "## Converter\n",
    "#### Settings"
   ]
  },
  {
   "cell_type": "code",
   "execution_count": null,
   "metadata": {},
   "outputs": [],
   "source": [
    "s2_selectors = [\"B4\", \"B3\", \"B2\", \"QA60\"]\n",
    "s1_selectors = [\"VV\"]\n",
    "resolution = 10\n",
    "patch_size_meter = patch_size*1000\n",
    "patch_size_in_pixel = int(patch_size_meter/resolution)\n",
    "\n",
    "image_size = (patch_size_in_pixel, patch_size_in_pixel) \n",
    "if windows:\n",
    "    s2_path = sen2_images_base_path+'*'\n",
    "    s1_path = sen1_images_base_path+'*'\n",
    "else:\n",
    "    s2_path = sen2_images_base_path+'*'\n",
    "    s1_path = sen1_images_base_path+'*'"
   ]
  },
  {
   "cell_type": "markdown",
   "metadata": {},
   "source": [
    "#### Execution"
   ]
  },
  {
   "cell_type": "code",
   "execution_count": null,
   "metadata": {},
   "outputs": [],
   "source": [
    "if convert_s2:\n",
    "    import converter_v_2\n",
    "    converter_v_2.convert_s2(s2_path, s1_path, image_size, s2_selectors, s1_selectors, 's&n', windows)\n",
    "if convert_s1:\n",
    "    import converter_v_2\n",
    "    converter_v_2.convert_s1(s2_path, s1_path, image_size, s2_selectors, s1_selectors, 's&n', windows)"
   ]
  },
  {
   "cell_type": "markdown",
   "metadata": {},
   "source": [
    "## Cleaner\n",
    "#### Settings"
   ]
  },
  {
   "cell_type": "code",
   "execution_count": null,
   "metadata": {},
   "outputs": [],
   "source": [
    "if windows:\n",
    "    s2_path = 'C:\\\\Users\\\\Phicollaborator\\\\Desktop\\\\downloader_tool\\\\code\\\\dataset\\\\sen2\\\\*'\n",
    "    s1_path = 'C:\\\\Users\\\\Phicollaborator\\\\Desktop\\\\downloader_tool\\\\code\\\\dataset\\\\sen1\\\\*'\n",
    "else:\n",
    "    s2_path = '/home/sebbyraft/Desktop/downloader_tool/code/dataset/sen2/*'\n",
    "    s1_path = '/home/sebbyraft/Desktop/downloader_tool/code/dataset/sen1/*'"
   ]
  },
  {
   "cell_type": "markdown",
   "metadata": {},
   "source": [
    "#### Execution"
   ]
  },
  {
   "cell_type": "code",
   "execution_count": null,
   "metadata": {},
   "outputs": [],
   "source": [
    "if clean_s2:\n",
    "    import cleaner_v_2\n",
    "    cleaner_v_2.clean_s2(s2_path, date_names, windows)\n",
    "if clean_s1:\n",
    "    import cleaner_v_2\n",
    "    cleaner_v_2.clean_s1(s1_path, date_names, windows)"
   ]
  }
 ],
 "metadata": {
  "kernelspec": {
   "display_name": "Python 3",
   "language": "python",
   "name": "python3"
  },
  "language_info": {
   "codemirror_mode": {
    "name": "ipython",
    "version": 3
   },
   "file_extension": ".py",
   "mimetype": "text/x-python",
   "name": "python",
   "nbconvert_exporter": "python",
   "pygments_lexer": "ipython3",
   "version": "3.6.8"
  }
 },
 "nbformat": 4,
 "nbformat_minor": 4
}
